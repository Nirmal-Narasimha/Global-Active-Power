{
  "nbformat": 4,
  "nbformat_minor": 0,
  "metadata": {
    "colab": {
      "name": "Project.ipynb",
      "provenance": [],
      "collapsed_sections": []
    },
    "kernelspec": {
      "display_name": "Python 3",
      "name": "python3"
    },
    "language_info": {
      "name": "python"
    }
  },
  "cells": [
    {
      "cell_type": "markdown",
      "metadata": {
        "id": "obI35DkA31XB"
      },
      "source": [
        "# **Importing libraries**"
      ]
    },
    {
      "cell_type": "code",
      "metadata": {
        "id": "EPC_tGbiw0tm"
      },
      "source": [
        "import matplotlib.pyplot as plt\n",
        "import pandas as pd\n",
        "import matplotlib.dates as mdates\n",
        "import numpy as np\n",
        "from matplotlib import rcParams\n",
        "import seaborn as sns"
      ],
      "execution_count": null,
      "outputs": []
    },
    {
      "cell_type": "code",
      "metadata": {
        "colab": {
          "base_uri": "https://localhost:8080/",
          "height": 35
        },
        "id": "FXcNTVNeLWkP",
        "outputId": "a1700df5-ec6a-410e-fae4-6ae623e3aff8"
      },
      "source": [
        "import tensorflow as tf \n",
        "tf.test.gpu_device_name()"
      ],
      "execution_count": null,
      "outputs": [
        {
          "output_type": "execute_result",
          "data": {
            "application/vnd.google.colaboratory.intrinsic+json": {
              "type": "string"
            },
            "text/plain": [
              "''"
            ]
          },
          "metadata": {
            "tags": []
          },
          "execution_count": 2
        }
      ]
    },
    {
      "cell_type": "code",
      "metadata": {
        "colab": {
          "base_uri": "https://localhost:8080/",
          "height": 195
        },
        "id": "KBmE2DE7xedg",
        "outputId": "897f1e6c-208c-4d78-d5d6-64f41021b895"
      },
      "source": [
        "dataset = pd.read_csv(\"household_power_consumption.csv\", skiprows = 0, nrows=150000)\n",
        "dataset.head()\n"
      ],
      "execution_count": null,
      "outputs": [
        {
          "output_type": "execute_result",
          "data": {
            "text/html": [
              "<div>\n",
              "<style scoped>\n",
              "    .dataframe tbody tr th:only-of-type {\n",
              "        vertical-align: middle;\n",
              "    }\n",
              "\n",
              "    .dataframe tbody tr th {\n",
              "        vertical-align: top;\n",
              "    }\n",
              "\n",
              "    .dataframe thead th {\n",
              "        text-align: right;\n",
              "    }\n",
              "</style>\n",
              "<table border=\"1\" class=\"dataframe\">\n",
              "  <thead>\n",
              "    <tr style=\"text-align: right;\">\n",
              "      <th></th>\n",
              "      <th>Date</th>\n",
              "      <th>Time</th>\n",
              "      <th>Global_reactive_power</th>\n",
              "      <th>Voltage</th>\n",
              "      <th>Global_intensity</th>\n",
              "      <th>Sub_metering_1</th>\n",
              "      <th>Sub_metering_2</th>\n",
              "      <th>Sub_metering_3</th>\n",
              "      <th>Global_active_power</th>\n",
              "    </tr>\n",
              "  </thead>\n",
              "  <tbody>\n",
              "    <tr>\n",
              "      <th>0</th>\n",
              "      <td>16-12-2006</td>\n",
              "      <td>17:24:00</td>\n",
              "      <td>0.418</td>\n",
              "      <td>234.84</td>\n",
              "      <td>18.4</td>\n",
              "      <td>0</td>\n",
              "      <td>1</td>\n",
              "      <td>17.0</td>\n",
              "      <td>4.216</td>\n",
              "    </tr>\n",
              "    <tr>\n",
              "      <th>1</th>\n",
              "      <td>16-12-2006</td>\n",
              "      <td>17:25:00</td>\n",
              "      <td>0.436</td>\n",
              "      <td>233.63</td>\n",
              "      <td>23</td>\n",
              "      <td>0</td>\n",
              "      <td>1</td>\n",
              "      <td>16.0</td>\n",
              "      <td>5.36</td>\n",
              "    </tr>\n",
              "    <tr>\n",
              "      <th>2</th>\n",
              "      <td>16-12-2006</td>\n",
              "      <td>17:26:00</td>\n",
              "      <td>0.498</td>\n",
              "      <td>233.29</td>\n",
              "      <td>23</td>\n",
              "      <td>0</td>\n",
              "      <td>2</td>\n",
              "      <td>17.0</td>\n",
              "      <td>5.374</td>\n",
              "    </tr>\n",
              "    <tr>\n",
              "      <th>3</th>\n",
              "      <td>16-12-2006</td>\n",
              "      <td>17:27:00</td>\n",
              "      <td>0.502</td>\n",
              "      <td>233.74</td>\n",
              "      <td>23</td>\n",
              "      <td>0</td>\n",
              "      <td>1</td>\n",
              "      <td>17.0</td>\n",
              "      <td>5.388</td>\n",
              "    </tr>\n",
              "    <tr>\n",
              "      <th>4</th>\n",
              "      <td>16-12-2006</td>\n",
              "      <td>17:28:00</td>\n",
              "      <td>0.528</td>\n",
              "      <td>235.68</td>\n",
              "      <td>15.8</td>\n",
              "      <td>0</td>\n",
              "      <td>1</td>\n",
              "      <td>17.0</td>\n",
              "      <td>3.666</td>\n",
              "    </tr>\n",
              "  </tbody>\n",
              "</table>\n",
              "</div>"
            ],
            "text/plain": [
              "         Date      Time  ... Sub_metering_3 Global_active_power\n",
              "0  16-12-2006  17:24:00  ...           17.0               4.216\n",
              "1  16-12-2006  17:25:00  ...           16.0                5.36\n",
              "2  16-12-2006  17:26:00  ...           17.0               5.374\n",
              "3  16-12-2006  17:27:00  ...           17.0               5.388\n",
              "4  16-12-2006  17:28:00  ...           17.0               3.666\n",
              "\n",
              "[5 rows x 9 columns]"
            ]
          },
          "metadata": {
            "tags": []
          },
          "execution_count": 2
        }
      ]
    },
    {
      "cell_type": "markdown",
      "metadata": {
        "id": "F2TSllvL4EJw"
      },
      "source": [
        "**Data Preprocessing**"
      ]
    },
    {
      "cell_type": "code",
      "metadata": {
        "id": "pqaZcZn2gxPx"
      },
      "source": [
        "dataset.replace(\"?\", np.nan, inplace = True)"
      ],
      "execution_count": null,
      "outputs": []
    },
    {
      "cell_type": "code",
      "metadata": {
        "colab": {
          "base_uri": "https://localhost:8080/"
        },
        "id": "aHi2p4_UESoL",
        "outputId": "964aed23-91af-4e04-ff5c-73fe132f52d1"
      },
      "source": [
        "dataset.shape"
      ],
      "execution_count": null,
      "outputs": [
        {
          "output_type": "execute_result",
          "data": {
            "text/plain": [
              "(150000, 9)"
            ]
          },
          "metadata": {
            "tags": []
          },
          "execution_count": 4
        }
      ]
    },
    {
      "cell_type": "code",
      "metadata": {
        "colab": {
          "base_uri": "https://localhost:8080/"
        },
        "id": "mXOtS6UdEz-P",
        "outputId": "c93b7bb6-5e85-43f1-b16f-ac0ed7a16365"
      },
      "source": [
        "#Presents the number of non null values in each column\n",
        "dataset.info()"
      ],
      "execution_count": null,
      "outputs": [
        {
          "output_type": "stream",
          "text": [
            "<class 'pandas.core.frame.DataFrame'>\n",
            "RangeIndex: 150000 entries, 0 to 149999\n",
            "Data columns (total 9 columns):\n",
            " #   Column                 Non-Null Count   Dtype  \n",
            "---  ------                 --------------   -----  \n",
            " 0   Date                   150000 non-null  object \n",
            " 1   Time                   150000 non-null  object \n",
            " 2   Global_reactive_power  149991 non-null  object \n",
            " 3   Voltage                149991 non-null  object \n",
            " 4   Global_intensity       149991 non-null  object \n",
            " 5   Sub_metering_1         149991 non-null  object \n",
            " 6   Sub_metering_2         149991 non-null  object \n",
            " 7   Sub_metering_3         149991 non-null  float64\n",
            " 8   Global_active_power    149991 non-null  object \n",
            "dtypes: float64(1), object(8)\n",
            "memory usage: 10.3+ MB\n"
          ],
          "name": "stdout"
        }
      ]
    },
    {
      "cell_type": "code",
      "metadata": {
        "colab": {
          "base_uri": "https://localhost:8080/"
        },
        "id": "SU-uDNSSFSzA",
        "outputId": "f4479412-f09c-4681-9a4c-a52aeca3fc14"
      },
      "source": [
        "dataset.count()"
      ],
      "execution_count": null,
      "outputs": [
        {
          "output_type": "execute_result",
          "data": {
            "text/plain": [
              "Date                     150000\n",
              "Time                     150000\n",
              "Global_reactive_power    149991\n",
              "Voltage                  149991\n",
              "Global_intensity         149991\n",
              "Sub_metering_1           149991\n",
              "Sub_metering_2           149991\n",
              "Sub_metering_3           149991\n",
              "Global_active_power      149991\n",
              "dtype: int64"
            ]
          },
          "metadata": {
            "tags": []
          },
          "execution_count": 6
        }
      ]
    },
    {
      "cell_type": "code",
      "metadata": {
        "colab": {
          "base_uri": "https://localhost:8080/"
        },
        "id": "5H8_63hPLs3G",
        "outputId": "5934079d-4593-4127-dbc0-3c47d5d6ee2b"
      },
      "source": [
        "#Printing datatype of elements in dataframe\n",
        "dataset.dtypes\n"
      ],
      "execution_count": null,
      "outputs": [
        {
          "output_type": "execute_result",
          "data": {
            "text/plain": [
              "Date                      object\n",
              "Time                      object\n",
              "Global_reactive_power     object\n",
              "Voltage                   object\n",
              "Global_intensity          object\n",
              "Sub_metering_1            object\n",
              "Sub_metering_2            object\n",
              "Sub_metering_3           float64\n",
              "Global_active_power       object\n",
              "dtype: object"
            ]
          },
          "metadata": {
            "tags": []
          },
          "execution_count": 7
        }
      ]
    },
    {
      "cell_type": "code",
      "metadata": {
        "id": "FtC5Qh8xbEpv"
      },
      "source": [
        "#Converting all the datatypes from python objects to floats for missing value computation\n",
        "dataset['Global_reactive_power'] = pd.to_numeric(dataset['Global_reactive_power'],errors = 'coerce')\n",
        "dataset['Voltage'] = pd.to_numeric(dataset['Voltage'],errors = 'coerce')\n",
        "dataset['Global_intensity'] = pd.to_numeric(dataset['Global_intensity'],errors = 'coerce')\n",
        "dataset['Sub_metering_1'] = pd.to_numeric(dataset['Sub_metering_1'],errors = 'coerce')\n",
        "dataset['Sub_metering_2'] = pd.to_numeric(dataset['Sub_metering_2'],errors = 'coerce')\n",
        "dataset['Sub_metering_3'] = pd.to_numeric(dataset['Sub_metering_3'],errors = 'coerce')\n",
        "dataset['Global_active_power'] = pd.to_numeric(dataset['Global_active_power'],errors = 'coerce')"
      ],
      "execution_count": null,
      "outputs": []
    },
    {
      "cell_type": "code",
      "metadata": {
        "colab": {
          "base_uri": "https://localhost:8080/"
        },
        "id": "-QvA4ZarPUK1",
        "outputId": "c1b1b634-b479-4bb6-bbee-284050a2d312"
      },
      "source": [
        "#Verifying whether all objects converted to floats\n",
        "dataset.Sub_metering_2.dtypes"
      ],
      "execution_count": null,
      "outputs": [
        {
          "output_type": "execute_result",
          "data": {
            "text/plain": [
              "dtype('float64')"
            ]
          },
          "metadata": {
            "tags": []
          },
          "execution_count": 9
        }
      ]
    },
    {
      "cell_type": "code",
      "metadata": {
        "colab": {
          "base_uri": "https://localhost:8080/",
          "height": 195
        },
        "id": "28tG4La6Gcuy",
        "outputId": "9454a40e-98f2-4bd2-8ad8-ea0bb0dbab11"
      },
      "source": [
        "#Boolean value of whether present or absent\n",
        "dataset_missing = dataset.isna()\n",
        "dataset_missing.head()"
      ],
      "execution_count": null,
      "outputs": [
        {
          "output_type": "execute_result",
          "data": {
            "text/html": [
              "<div>\n",
              "<style scoped>\n",
              "    .dataframe tbody tr th:only-of-type {\n",
              "        vertical-align: middle;\n",
              "    }\n",
              "\n",
              "    .dataframe tbody tr th {\n",
              "        vertical-align: top;\n",
              "    }\n",
              "\n",
              "    .dataframe thead th {\n",
              "        text-align: right;\n",
              "    }\n",
              "</style>\n",
              "<table border=\"1\" class=\"dataframe\">\n",
              "  <thead>\n",
              "    <tr style=\"text-align: right;\">\n",
              "      <th></th>\n",
              "      <th>Date</th>\n",
              "      <th>Time</th>\n",
              "      <th>Global_reactive_power</th>\n",
              "      <th>Voltage</th>\n",
              "      <th>Global_intensity</th>\n",
              "      <th>Sub_metering_1</th>\n",
              "      <th>Sub_metering_2</th>\n",
              "      <th>Sub_metering_3</th>\n",
              "      <th>Global_active_power</th>\n",
              "    </tr>\n",
              "  </thead>\n",
              "  <tbody>\n",
              "    <tr>\n",
              "      <th>0</th>\n",
              "      <td>False</td>\n",
              "      <td>False</td>\n",
              "      <td>False</td>\n",
              "      <td>False</td>\n",
              "      <td>False</td>\n",
              "      <td>False</td>\n",
              "      <td>False</td>\n",
              "      <td>False</td>\n",
              "      <td>False</td>\n",
              "    </tr>\n",
              "    <tr>\n",
              "      <th>1</th>\n",
              "      <td>False</td>\n",
              "      <td>False</td>\n",
              "      <td>False</td>\n",
              "      <td>False</td>\n",
              "      <td>False</td>\n",
              "      <td>False</td>\n",
              "      <td>False</td>\n",
              "      <td>False</td>\n",
              "      <td>False</td>\n",
              "    </tr>\n",
              "    <tr>\n",
              "      <th>2</th>\n",
              "      <td>False</td>\n",
              "      <td>False</td>\n",
              "      <td>False</td>\n",
              "      <td>False</td>\n",
              "      <td>False</td>\n",
              "      <td>False</td>\n",
              "      <td>False</td>\n",
              "      <td>False</td>\n",
              "      <td>False</td>\n",
              "    </tr>\n",
              "    <tr>\n",
              "      <th>3</th>\n",
              "      <td>False</td>\n",
              "      <td>False</td>\n",
              "      <td>False</td>\n",
              "      <td>False</td>\n",
              "      <td>False</td>\n",
              "      <td>False</td>\n",
              "      <td>False</td>\n",
              "      <td>False</td>\n",
              "      <td>False</td>\n",
              "    </tr>\n",
              "    <tr>\n",
              "      <th>4</th>\n",
              "      <td>False</td>\n",
              "      <td>False</td>\n",
              "      <td>False</td>\n",
              "      <td>False</td>\n",
              "      <td>False</td>\n",
              "      <td>False</td>\n",
              "      <td>False</td>\n",
              "      <td>False</td>\n",
              "      <td>False</td>\n",
              "    </tr>\n",
              "  </tbody>\n",
              "</table>\n",
              "</div>"
            ],
            "text/plain": [
              "    Date   Time  ...  Sub_metering_3  Global_active_power\n",
              "0  False  False  ...           False                False\n",
              "1  False  False  ...           False                False\n",
              "2  False  False  ...           False                False\n",
              "3  False  False  ...           False                False\n",
              "4  False  False  ...           False                False\n",
              "\n",
              "[5 rows x 9 columns]"
            ]
          },
          "metadata": {
            "tags": []
          },
          "execution_count": 10
        }
      ]
    },
    {
      "cell_type": "code",
      "metadata": {
        "colab": {
          "base_uri": "https://localhost:8080/"
        },
        "id": "cFbcYIe4GvGD",
        "outputId": "1d56491d-ab47-470b-eea6-0d2e724ff770"
      },
      "source": [
        "#Computes the sum of all values that is True i.e missing values\n",
        "dataset_num_of_missing = dataset_missing.sum()\n",
        "dataset_num_of_missing"
      ],
      "execution_count": null,
      "outputs": [
        {
          "output_type": "execute_result",
          "data": {
            "text/plain": [
              "Date                     0\n",
              "Time                     0\n",
              "Global_reactive_power    9\n",
              "Voltage                  9\n",
              "Global_intensity         9\n",
              "Sub_metering_1           9\n",
              "Sub_metering_2           9\n",
              "Sub_metering_3           9\n",
              "Global_active_power      9\n",
              "dtype: int64"
            ]
          },
          "metadata": {
            "tags": []
          },
          "execution_count": 11
        }
      ]
    },
    {
      "cell_type": "code",
      "metadata": {
        "colab": {
          "base_uri": "https://localhost:8080/"
        },
        "id": "XzdfZ1gGIdlL",
        "outputId": "0e99bb7d-49d9-44e0-a6e1-44ce61e05e45"
      },
      "source": [
        "#Calculating % of missing values by dividing missing by total length of the dataframe\n",
        "total = len(dataset)\n",
        "percentage = (dataset_num_of_missing/total)*100\n",
        "percentage.round(4)#Rounding to 4 decimal places"
      ],
      "execution_count": null,
      "outputs": [
        {
          "output_type": "execute_result",
          "data": {
            "text/plain": [
              "Date                     0.000\n",
              "Time                     0.000\n",
              "Global_reactive_power    0.006\n",
              "Voltage                  0.006\n",
              "Global_intensity         0.006\n",
              "Sub_metering_1           0.006\n",
              "Sub_metering_2           0.006\n",
              "Sub_metering_3           0.006\n",
              "Global_active_power      0.006\n",
              "dtype: float64"
            ]
          },
          "metadata": {
            "tags": []
          },
          "execution_count": 12
        }
      ]
    },
    {
      "cell_type": "markdown",
      "metadata": {
        "id": "IMYrcZSz4PNH"
      },
      "source": [
        "**Splitting Dataset into input and output variable**"
      ]
    },
    {
      "cell_type": "code",
      "metadata": {
        "id": "cCwmnFLJELwr"
      },
      "source": [
        "X = dataset.iloc[:,:-1].values\n",
        "Y = dataset.iloc[:,-1].values #Global Active Power"
      ],
      "execution_count": null,
      "outputs": []
    },
    {
      "cell_type": "code",
      "metadata": {
        "colab": {
          "base_uri": "https://localhost:8080/"
        },
        "id": "5hD7dTb4zAmA",
        "outputId": "8069e5d2-cf7a-4ae9-dcc5-6c005caf4ece"
      },
      "source": [
        "X"
      ],
      "execution_count": null,
      "outputs": [
        {
          "output_type": "execute_result",
          "data": {
            "text/plain": [
              "array([['16-12-2006', '17:24:00', 0.418, ..., 0.0, 1.0, 17.0],\n",
              "       ['16-12-2006', '17:25:00', 0.436, ..., 0.0, 1.0, 16.0],\n",
              "       ['16-12-2006', '17:26:00', 0.498, ..., 0.0, 2.0, 17.0],\n",
              "       ...,\n",
              "       ['30-03-2007', '21:21:00', 0.0, ..., 1.0, 0.0, 17.0],\n",
              "       ['30-03-2007', '21:22:00', 0.0, ..., 1.0, 0.0, 16.0],\n",
              "       ['30-03-2007', '21:23:00', 0.0, ..., 1.0, 0.0, 17.0]], dtype=object)"
            ]
          },
          "metadata": {
            "tags": []
          },
          "execution_count": 14
        }
      ]
    },
    {
      "cell_type": "code",
      "metadata": {
        "colab": {
          "base_uri": "https://localhost:8080/"
        },
        "id": "D707C6Y1zhNe",
        "outputId": "c30e583f-0fed-432b-d7f8-7f0bc6784955"
      },
      "source": [
        "Y"
      ],
      "execution_count": null,
      "outputs": [
        {
          "output_type": "execute_result",
          "data": {
            "text/plain": [
              "array([4.216, 5.36 , 5.374, ..., 2.21 , 2.202, 2.216])"
            ]
          },
          "metadata": {
            "tags": []
          },
          "execution_count": 15
        }
      ]
    },
    {
      "cell_type": "code",
      "metadata": {
        "id": "0uj2QdNh2SZB"
      },
      "source": [
        "#Using sci-kitlearn to fill the missing values with the mean of that particular column using simple imputer\n",
        "from sklearn.impute import SimpleImputer\n",
        "imputer = SimpleImputer(missing_values=np.nan, strategy='mean')\n",
        "imputer.fit(X[:,2:8])\n",
        "X[:,2:8]=imputer.transform(X[: ,2:8])"
      ],
      "execution_count": null,
      "outputs": []
    },
    {
      "cell_type": "code",
      "metadata": {
        "id": "FkeQuMsAkI7L"
      },
      "source": [
        "#Converting our input numpy array to dataframe to check if the missing values have been computed\n",
        "X_set = pd.DataFrame(X[:,2:8],columns=['Global_reactive','Voltage','Global_Intensity','Sub_metering_1','Sub_metering_2','Sub_metering_3'])"
      ],
      "execution_count": null,
      "outputs": []
    },
    {
      "cell_type": "code",
      "metadata": {
        "colab": {
          "base_uri": "https://localhost:8080/"
        },
        "id": "0191C5JcCsPf",
        "outputId": "00d81f43-01bd-4ef5-945d-35e6843d66d6"
      },
      "source": [
        "#percentage down to 0 as all missing values filled\n",
        "X_set.isna().mean().round(4) * 100"
      ],
      "execution_count": null,
      "outputs": [
        {
          "output_type": "execute_result",
          "data": {
            "text/plain": [
              "Global_reactive     0.0\n",
              "Voltage             0.0\n",
              "Global_Intensity    0.0\n",
              "Sub_metering_1      0.0\n",
              "Sub_metering_2      0.0\n",
              "Sub_metering_3      0.0\n",
              "dtype: float64"
            ]
          },
          "metadata": {
            "tags": []
          },
          "execution_count": 18
        }
      ]
    },
    {
      "cell_type": "code",
      "metadata": {
        "colab": {
          "base_uri": "https://localhost:8080/",
          "height": 195
        },
        "id": "sjsrzkEADF-q",
        "outputId": "5180ef80-4ac9-4bee-9adf-baa28c19ba33"
      },
      "source": [
        "X_set.head()"
      ],
      "execution_count": null,
      "outputs": [
        {
          "output_type": "execute_result",
          "data": {
            "text/html": [
              "<div>\n",
              "<style scoped>\n",
              "    .dataframe tbody tr th:only-of-type {\n",
              "        vertical-align: middle;\n",
              "    }\n",
              "\n",
              "    .dataframe tbody tr th {\n",
              "        vertical-align: top;\n",
              "    }\n",
              "\n",
              "    .dataframe thead th {\n",
              "        text-align: right;\n",
              "    }\n",
              "</style>\n",
              "<table border=\"1\" class=\"dataframe\">\n",
              "  <thead>\n",
              "    <tr style=\"text-align: right;\">\n",
              "      <th></th>\n",
              "      <th>Global_reactive</th>\n",
              "      <th>Voltage</th>\n",
              "      <th>Global_Intensity</th>\n",
              "      <th>Sub_metering_1</th>\n",
              "      <th>Sub_metering_2</th>\n",
              "      <th>Sub_metering_3</th>\n",
              "    </tr>\n",
              "  </thead>\n",
              "  <tbody>\n",
              "    <tr>\n",
              "      <th>0</th>\n",
              "      <td>0.418</td>\n",
              "      <td>234.84</td>\n",
              "      <td>18.4</td>\n",
              "      <td>0</td>\n",
              "      <td>1</td>\n",
              "      <td>17</td>\n",
              "    </tr>\n",
              "    <tr>\n",
              "      <th>1</th>\n",
              "      <td>0.436</td>\n",
              "      <td>233.63</td>\n",
              "      <td>23</td>\n",
              "      <td>0</td>\n",
              "      <td>1</td>\n",
              "      <td>16</td>\n",
              "    </tr>\n",
              "    <tr>\n",
              "      <th>2</th>\n",
              "      <td>0.498</td>\n",
              "      <td>233.29</td>\n",
              "      <td>23</td>\n",
              "      <td>0</td>\n",
              "      <td>2</td>\n",
              "      <td>17</td>\n",
              "    </tr>\n",
              "    <tr>\n",
              "      <th>3</th>\n",
              "      <td>0.502</td>\n",
              "      <td>233.74</td>\n",
              "      <td>23</td>\n",
              "      <td>0</td>\n",
              "      <td>1</td>\n",
              "      <td>17</td>\n",
              "    </tr>\n",
              "    <tr>\n",
              "      <th>4</th>\n",
              "      <td>0.528</td>\n",
              "      <td>235.68</td>\n",
              "      <td>15.8</td>\n",
              "      <td>0</td>\n",
              "      <td>1</td>\n",
              "      <td>17</td>\n",
              "    </tr>\n",
              "  </tbody>\n",
              "</table>\n",
              "</div>"
            ],
            "text/plain": [
              "  Global_reactive Voltage  ... Sub_metering_2 Sub_metering_3\n",
              "0           0.418  234.84  ...              1             17\n",
              "1           0.436  233.63  ...              1             16\n",
              "2           0.498  233.29  ...              2             17\n",
              "3           0.502  233.74  ...              1             17\n",
              "4           0.528  235.68  ...              1             17\n",
              "\n",
              "[5 rows x 6 columns]"
            ]
          },
          "metadata": {
            "tags": []
          },
          "execution_count": 19
        }
      ]
    },
    {
      "cell_type": "markdown",
      "metadata": {
        "id": "oavW6Ew94dZQ"
      },
      "source": [
        "**Visualising the dataset to derive Insights**"
      ]
    },
    {
      "cell_type": "code",
      "metadata": {
        "id": "5doetZ3bEv-e"
      },
      "source": [
        "df = pd.read_csv(\"household_power_consumption.csv\", skiprows = 0, nrows=150000)\n",
        "df['Date'] = pd.to_datetime(df['Date'])"
      ],
      "execution_count": null,
      "outputs": []
    },
    {
      "cell_type": "code",
      "metadata": {
        "id": "l8gq-5kHcP5S"
      },
      "source": [
        "minimum = df['Date'].min()\n",
        "maximum = df['Date'].max()"
      ],
      "execution_count": null,
      "outputs": []
    },
    {
      "cell_type": "code",
      "metadata": {
        "id": "qBrgZEE6ZOzi",
        "colab": {
          "base_uri": "https://localhost:8080/",
          "height": 448
        },
        "outputId": "ce2c7071-9b3b-4a8d-bb99-e7622f0b186d"
      },
      "source": [
        "fig = plt.figure(figsize=(7, 7))\n",
        "ax = fig.add_subplot()\n",
        "ax.xaxis.set_major_locator(mdates.MonthLocator(interval=1))\n",
        "ax.xaxis.set_major_formatter(mdates.DateFormatter('%Y-%m-%d'))\n",
        "ax.set(xlabel=\"Year\",\n",
        "       ylabel=\"Power\",\n",
        "       title=\"Time series data\", xlim=[minimum , maximum])\n",
        "ax.bar(df['Date'], X_set['Global_reactive'], align='center')\n",
        "ax.grid(True)\n",
        "fig.autofmt_xdate()\n",
        "plt.show()"
      ],
      "execution_count": null,
      "outputs": [
        {
          "output_type": "display_data",
          "data": {
            "image/png": "[encoded data removed]",
            "text/plain": [
              "<Figure size 504x504 with 1 Axes>"
            ]
          },
          "metadata": {
            "tags": [],
            "needs_background": "light"
          }
        }
      ]
    },
    {
      "cell_type": "code",
      "metadata": {
        "id": "0bIZmyDOFmED",
        "colab": {
          "base_uri": "https://localhost:8080/",
          "height": 440
        },
        "outputId": "3e66cee2-bbc2-4008-80e5-40287863e00e"
      },
      "source": [
        "fig1 = plt.figure(figsize=(7, 7))\n",
        "bx = fig1.add_subplot()\n",
        "bx.set(xlabel=\"Year\",\n",
        "       ylabel=\"Voltage\",\n",
        "       title=\"Time series data\", xlim=[minimum , maximum])\n",
        "bx.bar(df['Date'], X_set['Voltage'], align='center')\n",
        "bx.grid(True)\n",
        "fig1.autofmt_xdate()\n",
        "plt.show()"
      ],
      "execution_count": null,
      "outputs": [
        {
          "output_type": "display_data",
          "data": {
            "image/png": "[encoded data removed]",
            "text/plain": [
              "<Figure size 504x504 with 1 Axes>"
            ]
          },
          "metadata": {
            "tags": [],
            "needs_background": "light"
          }
        }
      ]
    },
    {
      "cell_type": "code",
      "metadata": {
        "id": "TWczQGS6LsEe",
        "colab": {
          "base_uri": "https://localhost:8080/",
          "height": 440
        },
        "outputId": "bd50d8da-5dac-40e8-dba9-ae0395eccf1b"
      },
      "source": [
        "fig2 = plt.figure(figsize=(7, 7))\n",
        "cx = fig2.add_subplot()\n",
        "cx.set(xlabel=\"Year\",\n",
        "       ylabel=\"Global_intensity\",\n",
        "       title=\"Time series data\", xlim=[minimum , maximum])\n",
        "cx.bar(df['Date'], X_set['Global_Intensity'], align='center')\n",
        "cx.grid(True)\n",
        "fig2.autofmt_xdate()\n",
        "plt.show()"
      ],
      "execution_count": null,
      "outputs": [
        {
          "output_type": "display_data",
          "data": {
            "image/png": "[encoded data removed]",
            "text/plain": [
              "<Figure size 504x504 with 1 Axes>"
            ]
          },
          "metadata": {
            "tags": [],
            "needs_background": "light"
          }
        }
      ]
    },
    {
      "cell_type": "code",
      "metadata": {
        "id": "jhUnN4VRCdoS",
        "colab": {
          "base_uri": "https://localhost:8080/",
          "height": 440
        },
        "outputId": "6e3144bb-4ea3-49ce-e4f9-9efb74124d10"
      },
      "source": [
        "fig4 = plt.figure(figsize=(7, 7))\n",
        "ex = fig4.add_subplot()\n",
        "ex.set(xlabel=\"Year\",\n",
        "       ylabel=\"Climate Control Systems\",\n",
        "       title=\"Time series data\", xlim=[minimum , maximum])\n",
        "ex.bar(df['Date'], X_set['Sub_metering_3'], align='center')\n",
        "ex.grid(True)\n",
        "fig4.autofmt_xdate()\n",
        "plt.show()"
      ],
      "execution_count": null,
      "outputs": [
        {
          "output_type": "display_data",
          "data": {
            "image/png": "[encoded data removed]",
            "text/plain": [
              "<Figure size 504x504 with 1 Axes>"
            ]
          },
          "metadata": {
            "tags": [],
            "needs_background": "light"
          }
        }
      ]
    },
    {
      "cell_type": "code",
      "metadata": {
        "id": "AEtwXrNfCl63",
        "colab": {
          "base_uri": "https://localhost:8080/",
          "height": 440
        },
        "outputId": "8f4dff0d-d002-4bcf-f13a-cf7493ab036b"
      },
      "source": [
        "fig5 = plt.figure(figsize=(7, 7))\n",
        "fx = fig5.add_subplot()\n",
        "fx.set(xlabel=\"Year\",\n",
        "       ylabel=\"Laundry Devices\",\n",
        "       title=\"Time series data\", xlim=[minimum , maximum])\n",
        "fx.bar(df['Date'], X_set['Sub_metering_2'], align='center')\n",
        "fx.grid(True)\n",
        "fig5.autofmt_xdate()\n",
        "plt.show()"
      ],
      "execution_count": null,
      "outputs": [
        {
          "output_type": "display_data",
          "data": {
            "image/png": "[encoded data removed]",
            "text/plain": [
              "<Figure size 504x504 with 1 Axes>"
            ]
          },
          "metadata": {
            "tags": [],
            "needs_background": "light"
          }
        }
      ]
    },
    {
      "cell_type": "code",
      "metadata": {
        "id": "-owlcZ5g3e5E",
        "colab": {
          "base_uri": "https://localhost:8080/",
          "height": 440
        },
        "outputId": "b4bf10d3-ee26-4076-d487-7e347c0448d6"
      },
      "source": [
        "fig6 = plt.figure(figsize=(7, 7))\n",
        "gx = fig6.add_subplot()\n",
        "gx.set(xlabel=\"Year\",\n",
        "       ylabel=\"Kitchen Devices\",\n",
        "       title=\"Time series data\", xlim=[minimum , maximum])\n",
        "gx.bar(df['Date'], X_set['Sub_metering_1'], align='center')\n",
        "gx.grid(True)\n",
        "fig6.autofmt_xdate()\n",
        "plt.show()"
      ],
      "execution_count": null,
      "outputs": [
        {
          "output_type": "display_data",
          "data": {
            "image/png": "[encoded data removed]",
            "text/plain": [
              "<Figure size 504x504 with 1 Axes>"
            ]
          },
          "metadata": {
            "tags": [],
            "needs_background": "light"
          }
        }
      ]
    },
    {
      "cell_type": "code",
      "metadata": {
        "id": "b-VEhnO3H2Im",
        "colab": {
          "base_uri": "https://localhost:8080/",
          "height": 282
        },
        "outputId": "bc21c6a8-3e43-4aea-b67f-4ed4fd4e48cf"
      },
      "source": [
        "#histogram used to plot and analyse voltage VS number of entries\n",
        "plt.style.use('ggplot')\n",
        "dataset['Voltage'].hist()"
      ],
      "execution_count": null,
      "outputs": [
        {
          "output_type": "execute_result",
          "data": {
            "text/plain": [
              "<matplotlib.axes._subplots.AxesSubplot at 0x7f12038d6d90>"
            ]
          },
          "metadata": {
            "tags": []
          },
          "execution_count": 22
        },
        {
          "output_type": "display_data",
          "data": {
            "image/png": "[encoded data removed]",
            "text/plain": [
              "<Figure size 432x288 with 1 Axes>"
            ]
          },
          "metadata": {
            "tags": []
          }
        }
      ]
    },
    {
      "cell_type": "code",
      "metadata": {
        "colab": {
          "base_uri": "https://localhost:8080/",
          "height": 299
        },
        "id": "3CsnguIFhwZK",
        "outputId": "0080932d-9014-4e78-8190-a397a9ec4122"
      },
      "source": [
        "#scatter plot that brings out a relation between Voltage and Global actv power\n",
        "dataset.plot.scatter(x='Voltage',y='Global_active_power',cmap='coolwarm')"
      ],
      "execution_count": null,
      "outputs": [
        {
          "output_type": "execute_result",
          "data": {
            "text/plain": [
              "<matplotlib.axes._subplots.AxesSubplot at 0x7f1203841310>"
            ]
          },
          "metadata": {
            "tags": []
          },
          "execution_count": 23
        },
        {
          "output_type": "display_data",
          "data": {
            "image/png": "[encoded data removed]",
            "text/plain": [
              "<Figure size 432x288 with 1 Axes>"
            ]
          },
          "metadata": {
            "tags": []
          }
        }
      ]
    },
    {
      "cell_type": "code",
      "metadata": {
        "colab": {
          "base_uri": "https://localhost:8080/",
          "height": 353
        },
        "id": "x-9FT5oZhwms",
        "outputId": "88b969d6-aa5c-4d8b-ef66-d7e647eb9526"
      },
      "source": [
        "sns.distplot(dataset['Global_active_power'],bins=30,kde=True,color='red')"
      ],
      "execution_count": null,
      "outputs": [
        {
          "output_type": "stream",
          "text": [
            "/usr/local/lib/python3.7/dist-packages/seaborn/distributions.py:2557: FutureWarning: `distplot` is a deprecated function and will be removed in a future version. Please adapt your code to use either `displot` (a figure-level function with similar flexibility) or `histplot` (an axes-level function for histograms).\n",
            "  warnings.warn(msg, FutureWarning)\n"
          ],
          "name": "stderr"
        },
        {
          "output_type": "execute_result",
          "data": {
            "text/plain": [
              "<matplotlib.axes._subplots.AxesSubplot at 0x7f12032cd9d0>"
            ]
          },
          "metadata": {
            "tags": []
          },
          "execution_count": 24
        },
        {
          "output_type": "display_data",
          "data": {
            "image/png": "[encoded data removed]",
            "text/plain": [
              "<Figure size 432x288 with 1 Axes>"
            ]
          },
          "metadata": {
            "tags": []
          }
        }
      ]
    },
    {
      "cell_type": "code",
      "metadata": {
        "colab": {
          "base_uri": "https://localhost:8080/",
          "height": 299
        },
        "id": "zErVbq_Yl56E",
        "outputId": "8948f3a4-2282-42d4-e665-e8313c1576b3"
      },
      "source": [
        "sns.kdeplot(dataset['Global_intensity'],shade=True)"
      ],
      "execution_count": null,
      "outputs": [
        {
          "output_type": "execute_result",
          "data": {
            "text/plain": [
              "<matplotlib.axes._subplots.AxesSubplot at 0x7f11f3fbae10>"
            ]
          },
          "metadata": {
            "tags": []
          },
          "execution_count": 28
        },
        {
          "output_type": "display_data",
          "data": {
            "image/png": "[encoded data removed]",
            "text/plain": [
              "<Figure size 432x288 with 1 Axes>"
            ]
          },
          "metadata": {
            "tags": []
          }
        }
      ]
    },
    {
      "cell_type": "code",
      "metadata": {
        "colab": {
          "base_uri": "https://localhost:8080/",
          "height": 299
        },
        "id": "-758iV0XoTk7",
        "outputId": "45707725-6547-45e5-85c1-266ba5a209f6"
      },
      "source": [
        "sns.kdeplot(dataset['Sub_metering_1'],shade=True)"
      ],
      "execution_count": null,
      "outputs": [
        {
          "output_type": "execute_result",
          "data": {
            "text/plain": [
              "<matplotlib.axes._subplots.AxesSubplot at 0x7f11f3f2e310>"
            ]
          },
          "metadata": {
            "tags": []
          },
          "execution_count": 29
        },
        {
          "output_type": "display_data",
          "data": {
            "image/png": "[encoded data removed]",
            "text/plain": [
              "<Figure size 432x288 with 1 Axes>"
            ]
          },
          "metadata": {
            "tags": []
          }
        }
      ]
    },
    {
      "cell_type": "code",
      "metadata": {
        "colab": {
          "base_uri": "https://localhost:8080/",
          "height": 299
        },
        "id": "5B7CStdKoZsT",
        "outputId": "419bf370-aacc-4846-9394-e13ada7f15b9"
      },
      "source": [
        "sns.kdeplot(dataset['Sub_metering_2'],shade=True)"
      ],
      "execution_count": null,
      "outputs": [
        {
          "output_type": "execute_result",
          "data": {
            "text/plain": [
              "<matplotlib.axes._subplots.AxesSubplot at 0x7f11f3f346d0>"
            ]
          },
          "metadata": {
            "tags": []
          },
          "execution_count": 31
        },
        {
          "output_type": "display_data",
          "data": {
            "image/png": "[encoded data removed]",
            "text/plain": [
              "<Figure size 432x288 with 1 Axes>"
            ]
          },
          "metadata": {
            "tags": []
          }
        }
      ]
    },
    {
      "cell_type": "code",
      "metadata": {
        "colab": {
          "base_uri": "https://localhost:8080/",
          "height": 299
        },
        "id": "XPqVwrj7ohSi",
        "outputId": "645525fb-4eeb-45c4-f046-34e33ee75d8a"
      },
      "source": [
        "sns.kdeplot(dataset['Sub_metering_3'],shade=True)"
      ],
      "execution_count": null,
      "outputs": [
        {
          "output_type": "execute_result",
          "data": {
            "text/plain": [
              "<matplotlib.axes._subplots.AxesSubplot at 0x7f11f3d7c290>"
            ]
          },
          "metadata": {
            "tags": []
          },
          "execution_count": 32
        },
        {
          "output_type": "display_data",
          "data": {
            "image/png": "[encoded data removed]",
            "text/plain": [
              "<Figure size 432x288 with 1 Axes>"
            ]
          },
          "metadata": {
            "tags": []
          }
        }
      ]
    }
  ]
}